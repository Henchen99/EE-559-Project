{
 "cells": [
  {
   "cell_type": "markdown",
   "metadata": {},
   "source": [
    "# EE 559 Project\n",
    "Ronald Huang & Henry Chen"
   ]
  },
  {
   "cell_type": "markdown",
   "metadata": {},
   "source": [
    "### Import Libraries"
   ]
  },
  {
   "cell_type": "code",
   "execution_count": 31,
   "metadata": {},
   "outputs": [],
   "source": [
    "# Import packages\n",
    "import math\n",
    "import numpy as np\n",
    "import pandas as pd\n",
    "import datetime as datetime\n",
    "#import seaborn as sns\n",
    "from collections import Counter, deque\n",
    "\n",
    "\n",
    "# For Computing Priors\n",
    "import sys\n",
    "from sklearn.model_selection import train_test_split\n",
    "from sklearn.preprocessing import StandardScaler, OneHotEncoder, LabelEncoder\n",
    "from sklearn.metrics import mean_absolute_error, mean_squared_error, classification_report,confusion_matrix, accuracy_score\n",
    "\n",
    "\n",
    "# For Visualisation\n",
    "from sklearn.tree import export_graphviz\n",
    "from subprocess import call\n",
    "from IPython.display import Image\n",
    "\n",
    "\n",
    "# For Model Selection\n",
    "import warnings\n",
    "from sklearn.ensemble import RandomForestClassifier, AdaBoostClassifier, GradientBoostingClassifier, GradientBoostingRegressor\n",
    "from sklearn.feature_selection import RFE\n",
    "from sklearn.decomposition import PCA, KernelPCA\n",
    "from sklearn.exceptions import ConvergenceWarning, UndefinedMetricWarning\n",
    "from sklearn.metrics import log_loss\n",
    "from sklearn.naive_bayes import GaussianNB\n",
    "from sklearn.svm import SVC, SVR\n",
    "from sklearn.linear_model import LogisticRegression\n",
    "\n",
    "\n",
    "# For creating Tensorflow models\n",
    "# import keras\n",
    "# from keras.models import Sequential\n",
    "# from keras.wrappers.scikit_learn import KerasClassifier\n",
    "# from keras.layers import Dense, Input, Dropout, SimpleRNN, GRU, LSTM, Conv1D\n",
    "# import tensorflow as tf\n",
    "# from tensorflow import keras\n",
    "# from tensorflow.keras import layers\n",
    "# from tensorflow.keras.models import Sequential\n",
    "# from keras.callbacks import EarlyStopping\n",
    "\n",
    "\n",
    "import matplotlib.pyplot as plt\n",
    "\n",
    "\n",
    "# For plotting ROC and Precision Recall curves\n",
    "from itertools import cycle\n",
    "from sklearn.metrics import roc_curve, auc\n",
    "from sklearn.metrics import roc_auc_score\n",
    "from sklearn.metrics import precision_recall_curve\n",
    "from sklearn.metrics import average_precision_score\n",
    "from sklearn.metrics import PrecisionRecallDisplay\n",
    "\n",
    "\n",
    "# For OS agnostic path handling\n",
    "from os import path\n"
   ]
  },
  {
   "cell_type": "markdown",
   "metadata": {},
   "source": [
    "### Data Import"
   ]
  },
  {
   "cell_type": "code",
   "execution_count": 61,
   "metadata": {},
   "outputs": [
    {
     "name": "stdout",
     "output_type": "stream",
     "text": [
      "T_offset_1       0.942303\n",
      "Max1R13_1       35.485665\n",
      "Max1L13_1       35.495207\n",
      "aveAllR13_1     34.754220\n",
      "aveAllL13_1     34.864950\n",
      "T_RC_1          35.546052\n",
      "T_RC_Dry_1      35.472990\n",
      "T_RC_Wet_1      35.427253\n",
      "T_RC_Max_1      35.576023\n",
      "T_LC_1          35.523076\n",
      "T_LC_Dry_1      35.490186\n",
      "T_LC_Wet_1      35.332833\n",
      "T_LC_Max_1      35.555136\n",
      "RCC_1           35.137682\n",
      "LCC_1           35.069585\n",
      "canthiMax_1     35.670315\n",
      "canthi4Max_1    35.640429\n",
      "T_FHCC_1        34.378355\n",
      "T_FHRC_1        34.379041\n",
      "T_FHLC_1        34.373233\n",
      "T_FHBC_1        34.282189\n",
      "T_FHTC_1        34.376395\n",
      "T_FH_Max_1      35.302876\n",
      "T_FHC_Max_1     34.935451\n",
      "T_Max_1         35.772818\n",
      "T_OR_1          35.238913\n",
      "dtype: float64\n",
      "T_offset_2       0.949401\n",
      "Max1R13_2       35.565364\n",
      "Max1L13_2       35.563181\n",
      "aveAllR13_2     34.877375\n",
      "aveAllL13_2     34.977760\n",
      "T_RC_2          35.614365\n",
      "T_RC_Dry_2      35.555906\n",
      "T_RC_Wet_2      35.491555\n",
      "T_RC_Max_2      35.645121\n",
      "T_LC_2          35.591327\n",
      "T_LC_Dry_2      35.564722\n",
      "T_LC_Wet_2      35.413923\n",
      "T_LC_Max_2      35.621213\n",
      "RCC_2           35.213195\n",
      "LCC_2           35.154579\n",
      "canthiMax_2     35.737361\n",
      "canthi4Max_2    35.708117\n",
      "T_FHCC_2        34.546120\n",
      "T_FHRC_2        34.532183\n",
      "T_FHLC_2        34.530813\n",
      "T_FHBC_2        34.449629\n",
      "T_FHTC_2        34.552696\n",
      "T_FH_Max_2      35.390770\n",
      "T_FHC_Max_2     35.057974\n",
      "T_Max_2         35.943852\n",
      "T_OR_2          35.693338\n",
      "T_OR_Max_2      35.726733\n",
      "dtype: float64\n",
      "T_offset_3       0.946487\n",
      "Max1R13_3       35.584278\n",
      "Max1L13_3       35.593144\n",
      "aveAllR13_3     34.938215\n",
      "aveAllL13_3     35.041402\n",
      "T_RC_3          35.639688\n",
      "T_RC_Dry_3      35.570737\n",
      "T_RC_Wet_3      35.515113\n",
      "T_RC_Max_3      35.669363\n",
      "T_LC_3          35.612436\n",
      "T_LC_Dry_3      35.590156\n",
      "T_LC_Wet_3      35.413244\n",
      "T_LC_Max_3      35.641955\n",
      "RCC_3           35.238881\n",
      "LCC_3           35.156955\n",
      "canthiMax_3     35.761870\n",
      "canthi4Max_3    35.733258\n",
      "T_FHCC_3        34.566615\n",
      "T_FHRC_3        34.560227\n",
      "T_FHLC_3        34.547904\n",
      "T_FHBC_3        34.478187\n",
      "T_FHTC_3        34.561856\n",
      "T_FH_Max_3      35.415552\n",
      "T_FHC_Max_3     35.084136\n",
      "T_Max_3         35.950510\n",
      "T_OR_3          35.699915\n",
      "T_OR_Max_3      35.734816\n",
      "dtype: float64\n",
      "T_offset_4       0.945837\n",
      "Max1R13_4       35.610145\n",
      "Max1L13_4       35.621800\n",
      "aveAllR13_4     34.883977\n",
      "aveAllL13_4     35.019478\n",
      "T_RC_4          35.670524\n",
      "T_RC_Dry_4      35.607467\n",
      "T_RC_Wet_4      35.551456\n",
      "T_RC_Max_4      35.699170\n",
      "T_LC_4          35.652387\n",
      "T_LC_Dry_4      35.627656\n",
      "T_LC_Wet_4      35.468108\n",
      "T_LC_Max_4      35.682111\n",
      "RCC_4           35.251441\n",
      "LCC_4           35.219098\n",
      "canthiMax_4     35.804047\n",
      "canthi4Max_4    35.773930\n",
      "T_FHCC_4        34.590116\n",
      "T_FHRC_4        34.569884\n",
      "T_FHLC_4        34.565386\n",
      "T_FHBC_4        34.511470\n",
      "T_FHTC_4        34.605313\n",
      "T_FH_Max_4      35.369898\n",
      "T_FHC_Max_4     35.053217\n",
      "T_Max_4         36.568457\n",
      "T_OR_4          36.509156\n",
      "T_OR_Max_4      36.538370\n",
      "dtype: float64\n"
     ]
    }
   ],
   "source": [
    "# train = np.loadtxt('data/FLIR_groups1and2_train.csv', delimiter = ',', skiprows = 2)\n",
    "\n",
    "data_path = 'data/FLIR_groups1and2_train.csv'\n",
    "\n",
    "read_train = pd.read_csv(data_path, skiprows = 2)\n",
    "train = read_train.iloc[:, 2:]\n",
    "\n",
    "# train = pd.read_csv('data/FLIR_groups1and2_train.csv')\n",
    "# test = pd.read_csv('data/FLIR_groups1and2_test.csv')\n",
    "\n",
    "round_1 = train.iloc[:, :26]\n",
    "round_2 = train.iloc[:, 28:55]\n",
    "round_3 = train.iloc[:, 56:83]\n",
    "round_4 = train.iloc[:, 84:111]\n",
    "\n",
    "round_1_means = round_1.mean()\n",
    "round_2_means = round_2.mean()\n",
    "round_3_means = round_3.mean()\n",
    "round_4_means = round_4.mean()\n",
    "\n",
    "print()\n",
    "print(round_1_means)\n",
    "print(round_2_means)\n",
    "print(round_3_means)\n",
    "print(round_4_means)\n"
   ]
  },
  {
   "cell_type": "code",
   "execution_count": 34,
   "metadata": {},
   "outputs": [
    {
     "name": "stdout",
     "output_type": "stream",
     "text": [
      "35.2\n"
     ]
    }
   ],
   "source": [
    "print(train.iloc[0,26])\n",
    "\n",
    "# print(train.iloc[:, 2])\n",
    "# print(train.iloc[2, 2])"
   ]
  },
  {
   "cell_type": "markdown",
   "metadata": {},
   "source": [
    "### Data Transformation and Exploration"
   ]
  },
  {
   "cell_type": "markdown",
   "metadata": {},
   "source": [
    "#### Intial Data Exploration"
   ]
  },
  {
   "cell_type": "markdown",
   "metadata": {},
   "source": [
    "##### Relation Between Attributes"
   ]
  },
  {
   "cell_type": "code",
   "execution_count": null,
   "metadata": {},
   "outputs": [],
   "source": []
  },
  {
   "cell_type": "markdown",
   "metadata": {},
   "source": [
    "##### Data PreProcessing \n",
    "* Removing Outliers\n",
    "* Filling in missing data/balancing out the data\n",
    "* Feature Importance\n",
    "* Feature Extraction/Dimensionality Reduction\n",
    "* Data Visualisation"
   ]
  },
  {
   "cell_type": "code",
   "execution_count": null,
   "metadata": {},
   "outputs": [],
   "source": [
    "# fill in missing data with means \n",
    "#calculate means and std of every feature for every round \n",
    "# normalize data\n",
    "\n",
    "#pandas describe\n",
    "#pandas fillna\n",
    "\n",
    "\n",
    "# 1. compute stats for each round (mean and std)\n",
    "# 2. if stats for each round are similar, fill in missing data with means\n",
    "# 3. concatenate in round order\n",
    "# 4. group by subject ID\n",
    "# 4.5. feature engineering\n",
    "# 5. shuffle wrt subject ID\n",
    "# 6. split k-fold into train and val (90% 10%)\n",
    "\n"
   ]
  },
  {
   "cell_type": "markdown",
   "metadata": {},
   "source": [
    "### Model Training and Validation"
   ]
  },
  {
   "cell_type": "markdown",
   "metadata": {},
   "source": [
    "#### Trivial Solution"
   ]
  },
  {
   "cell_type": "markdown",
   "metadata": {},
   "source": [
    "##### Mean Output Value"
   ]
  },
  {
   "cell_type": "code",
   "execution_count": null,
   "metadata": {},
   "outputs": [],
   "source": []
  },
  {
   "cell_type": "markdown",
   "metadata": {},
   "source": [
    "#### Baseline Models"
   ]
  },
  {
   "cell_type": "markdown",
   "metadata": {},
   "source": [
    "##### Linear Regression (No Regularisation)"
   ]
  },
  {
   "cell_type": "code",
   "execution_count": null,
   "metadata": {},
   "outputs": [],
   "source": [
    "#HC"
   ]
  },
  {
   "cell_type": "markdown",
   "metadata": {},
   "source": [
    "##### 1NN"
   ]
  },
  {
   "cell_type": "code",
   "execution_count": null,
   "metadata": {},
   "outputs": [],
   "source": [
    "#RH"
   ]
  },
  {
   "cell_type": "markdown",
   "metadata": {},
   "source": [
    "#### In-Class Regression Models"
   ]
  },
  {
   "cell_type": "markdown",
   "metadata": {},
   "source": [
    "##### Ridge Regression"
   ]
  },
  {
   "cell_type": "code",
   "execution_count": null,
   "metadata": {},
   "outputs": [],
   "source": [
    "#RH"
   ]
  },
  {
   "cell_type": "markdown",
   "metadata": {},
   "source": [
    "##### K-Nearest Neighbours Regression"
   ]
  },
  {
   "cell_type": "code",
   "execution_count": null,
   "metadata": {},
   "outputs": [],
   "source": [
    "#HC"
   ]
  },
  {
   "cell_type": "markdown",
   "metadata": {},
   "source": [
    "##### MSE Regression"
   ]
  },
  {
   "cell_type": "code",
   "execution_count": null,
   "metadata": {},
   "outputs": [],
   "source": [
    "#RH"
   ]
  },
  {
   "cell_type": "markdown",
   "metadata": {},
   "source": [
    "##### Support Vector Regression (SVR)"
   ]
  },
  {
   "cell_type": "code",
   "execution_count": null,
   "metadata": {},
   "outputs": [],
   "source": [
    "#HC"
   ]
  },
  {
   "cell_type": "markdown",
   "metadata": {},
   "source": [
    "#### Out-of-Class Models"
   ]
  },
  {
   "cell_type": "markdown",
   "metadata": {},
   "source": [
    "##### Random Forest"
   ]
  },
  {
   "cell_type": "code",
   "execution_count": null,
   "metadata": {},
   "outputs": [],
   "source": [
    "#RH"
   ]
  },
  {
   "cell_type": "markdown",
   "metadata": {},
   "source": [
    "##### Gradient Boosting"
   ]
  },
  {
   "cell_type": "code",
   "execution_count": null,
   "metadata": {},
   "outputs": [],
   "source": [
    "#HC"
   ]
  },
  {
   "cell_type": "markdown",
   "metadata": {},
   "source": [
    "##### Long Short Term Memory Neural Network (LSTM)"
   ]
  },
  {
   "cell_type": "code",
   "execution_count": null,
   "metadata": {},
   "outputs": [],
   "source": [
    "#HC"
   ]
  },
  {
   "cell_type": "markdown",
   "metadata": {},
   "source": [
    "### Results"
   ]
  },
  {
   "cell_type": "code",
   "execution_count": null,
   "metadata": {},
   "outputs": [],
   "source": []
  },
  {
   "cell_type": "markdown",
   "metadata": {},
   "source": [
    "### Final Predictions on Test Set"
   ]
  },
  {
   "cell_type": "code",
   "execution_count": null,
   "metadata": {},
   "outputs": [],
   "source": []
  }
 ],
 "metadata": {
  "kernelspec": {
   "display_name": "Python 3 (ipykernel)",
   "language": "python",
   "name": "python3"
  },
  "language_info": {
   "codemirror_mode": {
    "name": "ipython",
    "version": 3
   },
   "file_extension": ".py",
   "mimetype": "text/x-python",
   "name": "python",
   "nbconvert_exporter": "python",
   "pygments_lexer": "ipython3",
   "version": "3.12.2"
  }
 },
 "nbformat": 4,
 "nbformat_minor": 4
}
